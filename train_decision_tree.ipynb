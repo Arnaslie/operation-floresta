{
 "cells": [
  {
   "cell_type": "code",
   "execution_count": 1,
   "id": "827090fe",
   "metadata": {},
   "outputs": [],
   "source": [
    "# Load libraries\n",
    "import pandas as pd\n",
    "from sklearn.tree import DecisionTreeClassifier # Import Decision Tree Classifier\n",
    "from sklearn.model_selection import train_test_split # Import train_test_split function\n",
    "from sklearn import metrics #Import scikit-learn metrics module for accuracy calculation\n"
   ]
  },
  {
   "cell_type": "code",
   "execution_count": 2,
   "id": "2da5c9c7",
   "metadata": {},
   "outputs": [],
   "source": [
    "df = pd.read_csv('data/final_datasets/cleaned_train_all.csv')"
   ]
  },
  {
   "cell_type": "code",
   "execution_count": 3,
   "id": "3a820648",
   "metadata": {},
   "outputs": [
    {
     "name": "stdout",
     "output_type": "stream",
     "text": [
      "           type      NDVI      NDBI       BSI       bio1       bio2  \\\n",
      "0     earthwork  0.425166 -0.277196 -0.215753  25.870832  10.008333   \n",
      "1     earthwork  0.481983 -0.225465 -0.153677  26.037500  10.125000   \n",
      "2     earthwork  0.418867 -0.158282 -0.132422  25.854166  10.058333   \n",
      "3     earthwork  0.355608 -0.059675 -0.044102  25.716667  10.000000   \n",
      "4     earthwork  0.514203 -0.110540 -0.074577  25.962500  10.408334   \n",
      "...         ...       ...       ...       ...        ...        ...   \n",
      "2076  earthwork  0.431288 -0.052833 -0.001065  26.262501  11.075000   \n",
      "2077  earthwork  0.400672  0.005347  0.063598  25.616667  11.650000   \n",
      "2078  earthwork  0.486630 -0.083438 -0.022223  25.700001  11.666667   \n",
      "2079  earthwork  0.715786 -0.294071 -0.251704  25.941668  10.866667   \n",
      "2080  earthwork  0.521827 -0.322551 -0.235900  26.166666  10.666666   \n",
      "\n",
      "           bio3        bio4       bio5       bio6  ...    distriver1  \\\n",
      "0     71.488091   74.695091  32.299999  18.299999  ...  7.451016e+05   \n",
      "1     71.302818   74.745781  32.599998  18.400000  ...  7.248601e+05   \n",
      "2     71.845238   74.755913  32.299999  18.299999  ...  7.376540e+05   \n",
      "3     70.921989   76.524902  32.200001  18.100000  ...  7.372494e+05   \n",
      "4     70.804985   77.521988  32.700001  18.000000  ...  7.206835e+05   \n",
      "...         ...         ...        ...        ...  ...           ...   \n",
      "2076  72.385612   76.131630  33.400002  18.100000  ...  8.801241e+05   \n",
      "2077  71.913582   69.978317  33.299999  17.100000  ...  8.619753e+05   \n",
      "2078  71.574638   70.032471  33.400002  17.100000  ...  8.585290e+05   \n",
      "2079  69.214432   95.888985  33.000000  17.299999  ...  1.025859e+06   \n",
      "2080  65.040642  110.481049  33.200001  16.799999  ...  1.048712e+06   \n",
      "\n",
      "       distriver2  bulk_density     slope        tri    ph    soc  clay   cec  \\\n",
      "0     637444.3661         127.0  1.076476   5.335648  51.0  184.0  34.2  12.1   \n",
      "1     650022.5806         130.0  0.992471   3.664983  46.0   66.0  28.2  12.1   \n",
      "2     637177.1428         131.0  4.312538  13.695092  47.0   72.0  25.6  12.0   \n",
      "3     626542.3685         131.0  0.583209   1.523479  47.0   98.0  33.5  11.6   \n",
      "4     636270.9789         134.0  0.579662   2.249829  47.0   78.0  26.9  14.8   \n",
      "...           ...           ...       ...        ...   ...    ...   ...   ...   \n",
      "2076  816340.4061         136.0  0.663625   2.160247  47.0   79.0  22.8  12.1   \n",
      "2077  900750.3634         134.0  0.264061   6.967296  47.0   72.0  20.1  12.4   \n",
      "2078  902925.3311         136.0  1.273937   6.646265  47.0   76.0  23.1  11.5   \n",
      "2079  825148.6041         122.0  0.994077   3.142697  54.0  120.0  24.4  12.0   \n",
      "2080  654254.6597         131.0  0.499126   3.399346  53.0  103.0  22.6  11.3   \n",
      "\n",
      "      lidar_elevation_value  \n",
      "0                     184.0  \n",
      "1                     170.0  \n",
      "2                     204.0  \n",
      "3                     144.0  \n",
      "4                     186.0  \n",
      "...                     ...  \n",
      "2076                    NaN  \n",
      "2077                    NaN  \n",
      "2078                    NaN  \n",
      "2079                    NaN  \n",
      "2080                    NaN  \n",
      "\n",
      "[2081 rows x 33 columns]\n"
     ]
    }
   ],
   "source": [
    "df = df.drop('longitude', axis=1)\n",
    "df = df.drop('latitude', axis=1)\n",
    "df = df.drop('label', axis=1)\n",
    "print(df)"
   ]
  },
  {
   "cell_type": "code",
   "execution_count": 4,
   "id": "199e57f8",
   "metadata": {},
   "outputs": [],
   "source": [
    "X = df.drop('type', axis=1)\n",
    "y = df['type']"
   ]
  },
  {
   "cell_type": "code",
   "execution_count": 5,
   "id": "3c2241ac",
   "metadata": {},
   "outputs": [],
   "source": [
    "# Split dataset into training set and test set\n",
    "X_train, X_test, y_train, y_test = train_test_split(X, y, test_size=0.3, random_state=1) # 70% training and 30% test\n"
   ]
  },
  {
   "cell_type": "code",
   "execution_count": 10,
   "id": "e98915af",
   "metadata": {},
   "outputs": [],
   "source": [
    "# Create Decision Tree classifer object\n",
    "clf = DecisionTreeClassifier()\n",
    "\n",
    "# Train Decision Tree Classifer\n",
    "clf = clf.fit(X_train,y_train)\n",
    "\n",
    "#Predict the response for test dataset\n",
    "y_pred = clf.predict(X_test)\n"
   ]
  },
  {
   "cell_type": "code",
   "execution_count": 11,
   "id": "49269d01",
   "metadata": {},
   "outputs": [
    {
     "name": "stdout",
     "output_type": "stream",
     "text": [
      "Accuracy: 0.8688\n"
     ]
    }
   ],
   "source": [
    "# Model Accuracy, how often is the classifier correct?\n",
    "print(\"Accuracy:\",metrics.accuracy_score(y_test, y_pred))\n"
   ]
  },
  {
   "cell_type": "code",
   "execution_count": 9,
   "id": "3707b907",
   "metadata": {},
   "outputs": [
    {
     "name": "stdout",
     "output_type": "stream",
     "text": [
      "Accuracy: 0.856\n"
     ]
    }
   ],
   "source": [
    "# Hyperparameter Tuning\n",
    "\n",
    "# Create Decision Tree classifer object\n",
    "clf = DecisionTreeClassifier(criterion=\"entropy\", max_depth=3)\n",
    "\n",
    "# Train Decision Tree Classifer\n",
    "clf = clf.fit(X_train,y_train)\n",
    "\n",
    "#Predict the response for test dataset\n",
    "y_pred = clf.predict(X_test)\n",
    "\n",
    "# Model Accuracy, how often is the classifier correct?\n",
    "print(\"Accuracy:\",metrics.accuracy_score(y_test, y_pred))\n",
    "\n"
   ]
  },
  {
   "cell_type": "code",
   "execution_count": null,
   "id": "d3dc1f18",
   "metadata": {},
   "outputs": [],
   "source": [
    "import joblib\n",
    "\n",
    "joblib.dump(clf, 'decision_tree_model.pkl')\n"
   ]
  }
 ],
 "metadata": {
  "kernelspec": {
   "display_name": "project",
   "language": "python",
   "name": "project"
  },
  "language_info": {
   "codemirror_mode": {
    "name": "ipython",
    "version": 3
   },
   "file_extension": ".py",
   "mimetype": "text/x-python",
   "name": "python",
   "nbconvert_exporter": "python",
   "pygments_lexer": "ipython3",
   "version": "3.11.12"
  }
 },
 "nbformat": 4,
 "nbformat_minor": 5
}
