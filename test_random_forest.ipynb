{
 "cells": [
  {
   "cell_type": "code",
   "execution_count": 1,
   "id": "c7927310",
   "metadata": {},
   "outputs": [],
   "source": [
    "import joblib\n",
    "model = joblib.load('random_forest_model.pkl')"
   ]
  },
  {
   "cell_type": "code",
   "execution_count": 2,
   "id": "5449f541",
   "metadata": {},
   "outputs": [],
   "source": [
    "import pandas as pd\n",
    "df = pd.read_csv('data/final_datasets/cleaned_UpperXingu_test_all.csv')"
   ]
  },
  {
   "cell_type": "code",
   "execution_count": 5,
   "id": "50183765",
   "metadata": {},
   "outputs": [],
   "source": [
    "eval_df = df.drop('longitude', axis=1)\n",
    "eval_df = eval_df.drop('latitude', axis=1)\n",
    "eval_df = eval_df.drop('type', axis=1)\n"
   ]
  },
  {
   "cell_type": "code",
   "execution_count": 6,
   "id": "3ea0dd40",
   "metadata": {},
   "outputs": [
    {
     "data": {
      "text/plain": [
       "array(['other', 'ADE', 'ADE', 'other', 'ADE', 'ADE', 'ADE', 'ADE', 'ADE',\n",
       "       'ADE', 'ADE', 'ADE', 'ADE', 'ADE', 'other', 'ADE', 'ADE', 'ADE',\n",
       "       'ADE', 'other', 'ADE', 'ADE', 'ADE', 'ADE', 'ADE', 'ADE', 'ADE',\n",
       "       'ADE', 'ADE', 'ADE', 'ADE', 'ADE', 'ADE', 'ADE', 'ADE', 'ADE',\n",
       "       'ADE', 'ADE', 'ADE', 'ADE', 'ADE', 'ADE', 'ADE', 'ADE', 'ADE',\n",
       "       'ADE', 'ADE', 'ADE', 'other', 'ADE'], dtype=object)"
      ]
     },
     "execution_count": 6,
     "metadata": {},
     "output_type": "execute_result"
    }
   ],
   "source": [
    "target_pred = model.predict(eval_df)\n",
    "target_pred"
   ]
  },
  {
   "cell_type": "code",
   "execution_count": 7,
   "id": "0285d2d7",
   "metadata": {},
   "outputs": [],
   "source": [
    "df_pred = pd.DataFrame(target_pred)\n",
    "df = pd.concat([df, df_pred], axis=1)\n"
   ]
  },
  {
   "cell_type": "code",
   "execution_count": 8,
   "id": "e9c02e3f",
   "metadata": {},
   "outputs": [],
   "source": [
    "df.to_csv('final.csv', index=False)"
   ]
  },
  {
   "cell_type": "code",
   "execution_count": null,
   "id": "bebbbc24",
   "metadata": {},
   "outputs": [],
   "source": []
  }
 ],
 "metadata": {
  "kernelspec": {
   "display_name": "project",
   "language": "python",
   "name": "project"
  },
  "language_info": {
   "codemirror_mode": {
    "name": "ipython",
    "version": 3
   },
   "file_extension": ".py",
   "mimetype": "text/x-python",
   "name": "python",
   "nbconvert_exporter": "python",
   "pygments_lexer": "ipython3",
   "version": "3.11.12"
  }
 },
 "nbformat": 4,
 "nbformat_minor": 5
}
