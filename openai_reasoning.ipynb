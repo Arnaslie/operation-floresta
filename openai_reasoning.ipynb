{
 "cells": [
  {
   "cell_type": "code",
   "execution_count": null,
   "id": "9f2ce439",
   "metadata": {},
   "outputs": [],
   "source": [
    "import requests\n",
    "import os\n",
    "from dotenv import load_dotenv\n",
    "from openai import OpenAI\n",
    "\n",
    "load_dotenv()\n",
    "\n",
    "OPENAI_API_KEY = os.environ['OPENAI_KEY']\n",
    "\n",
    "client = OpenAI(api_key=OPENAI_API_KEY, timeout=3600)\n",
    "\n",
    "\n",
    "if __name__ == '__main__':\n",
    "    pass"
   ]
  },
  {
   "cell_type": "code",
   "execution_count": 27,
   "id": "8e94c5f6",
   "metadata": {},
   "outputs": [
    {
     "name": "stderr",
     "output_type": "stream",
     "text": [
      "/var/folders/5p/wbntwp1x72s_y54vq2__65_40000gn/T/ipykernel_3524/3850361575.py:5: SettingWithCopyWarning: \n",
      "A value is trying to be set on a copy of a slice from a DataFrame.\n",
      "Try using .loc[row_indexer,col_indexer] = value instead\n",
      "\n",
      "See the caveats in the documentation: https://pandas.pydata.org/pandas-docs/stable/user_guide/indexing.html#returning-a-view-versus-a-copy\n",
      "  df_text['lidar_elevation_value'] = df1['lidar_elevation_value']\n",
      "/var/folders/5p/wbntwp1x72s_y54vq2__65_40000gn/T/ipykernel_3524/3850361575.py:6: SettingWithCopyWarning: \n",
      "A value is trying to be set on a copy of a slice from a DataFrame.\n",
      "Try using .loc[row_indexer,col_indexer] = value instead\n",
      "\n",
      "See the caveats in the documentation: https://pandas.pydata.org/pandas-docs/stable/user_guide/indexing.html#returning-a-view-versus-a-copy\n",
      "  df_text['distriver1'] = df1['distriver1']\n",
      "/var/folders/5p/wbntwp1x72s_y54vq2__65_40000gn/T/ipykernel_3524/3850361575.py:7: SettingWithCopyWarning: \n",
      "A value is trying to be set on a copy of a slice from a DataFrame.\n",
      "Try using .loc[row_indexer,col_indexer] = value instead\n",
      "\n",
      "See the caveats in the documentation: https://pandas.pydata.org/pandas-docs/stable/user_guide/indexing.html#returning-a-view-versus-a-copy\n",
      "  df_text['bio7'] = df1['bio7']\n",
      "/var/folders/5p/wbntwp1x72s_y54vq2__65_40000gn/T/ipykernel_3524/3850361575.py:8: SettingWithCopyWarning: \n",
      "A value is trying to be set on a copy of a slice from a DataFrame.\n",
      "Try using .loc[row_indexer,col_indexer] = value instead\n",
      "\n",
      "See the caveats in the documentation: https://pandas.pydata.org/pandas-docs/stable/user_guide/indexing.html#returning-a-view-versus-a-copy\n",
      "  df_text['bio19'] = df1['bio19']\n"
     ]
    }
   ],
   "source": [
    "import pandas as pd\n",
    "df1 = pd.read_csv('dw_cleaned_test.csv')\n",
    "df2 = pd.read_csv('dw_prediction_results.csv')\n",
    "df_text = df2[['longitude', 'latitude', 'predicted_type', 'prob_ADE', 'prob_earthwork', 'prob_other']] #+ df1[['lidar_elevation_value', 'distriver1', 'bio19', 'bio7']]\n",
    "df_text['lidar_elevation_value'] = df1['lidar_elevation_value']\n",
    "df_text['distriver1'] = df1['distriver1']\n",
    "df_text['bio7'] = df1['bio7']\n",
    "df_text['bio19'] = df1['bio19']\n",
    "df_text = df_text.to_string()"
   ]
  },
  {
   "cell_type": "code",
   "execution_count": 28,
   "id": "dab7888a",
   "metadata": {},
   "outputs": [
    {
     "data": {
      "text/plain": [
       "'    longitude   latitude predicted_type  prob_ADE  prob_earthwork  prob_other  lidar_elevation_value     distriver1       bio7      bio19\\n0  -13.239949 -54.055652          other  0.388484        0.209600    0.401916                  365.0  120202.560737  80.682770  22.866667\\n1  -12.632771 -53.324514            ADE  0.392256        0.276229    0.331516                  336.0  222586.076474  83.373505  23.166666\\n2  -12.352090 -53.265710            ADE  0.420062        0.243400    0.336538                  288.0  245487.103656  81.686980  23.883333\\n3  -13.215377 -53.965133            ADE  0.395262        0.238600    0.366138                  393.0  130162.573413  83.253370  22.583334\\n4  -12.102912 -53.417888            ADE  0.397161        0.290218    0.312620                  318.0  231805.788625  82.676765  23.716667\\n5  -12.309609 -53.277830            ADE  0.407065        0.285681    0.307254                  285.0  247314.947876  82.814650  23.750000\\n6  -12.257455 -53.361174            ADE  0.401044        0.282418    0.316538                  286.0  243962.241360  82.839020  23.766666\\n7  -12.078872 -53.427555            ADE  0.399844        0.277218    0.322938                  282.0  229732.742755  82.286156  23.866667\\n8  -13.065669 -55.061950            ADE  0.384142        0.269366    0.346492                  395.0   60106.466662  83.364850  22.800000\\n9  -13.137874 -54.942240          other  0.347075        0.294838    0.358087                  399.0   59706.920105  83.542470  22.616667\\n10 -11.881289 -53.529039            ADE  0.388316        0.307281    0.304403                  287.0  211116.341704  82.435776  23.949999\\n11 -12.314183 -53.286268            ADE  0.390884        0.305029    0.304087                  296.0  246280.307007  82.729340  23.666666\\n12 -11.986486 -53.391737            ADE  0.404887        0.299281    0.295831                  320.0  229286.641568  82.491820  23.716667\\n13 -11.325256 -55.335522            ADE  0.412513        0.256200    0.331287                  354.0   10597.348853  79.098040  24.766666\\n14 -13.070191 -54.980634            ADE  0.378853        0.298838    0.322309                  453.0   64170.449905  84.787760  22.500000\\n15 -12.136845 -53.472478            ADE  0.388256        0.304229    0.307516                  330.0  228090.947208  82.840920  23.516666\\n16 -13.280654 -53.957690            ADE  0.373244        0.264618    0.362138                  414.0  127757.005402  82.874720  22.566668\\n17 -12.166497 -53.327836            ADE  0.415262        0.246600    0.338138                  282.0  243680.168660  82.247734  23.800000\\n18 -11.917859 -53.375732            ADE  0.372316        0.319281    0.308403                  294.0  228191.478778  82.368385  23.816666\\n19 -12.329354 -53.222070            ADE  0.421434        0.251629    0.326938                  288.0  250792.729887  81.319780  23.966667\\n20 -13.098780 -55.022712            ADE  0.384142        0.265366    0.350492                  403.0   59318.929609  83.784160  22.850000\\n21 -12.289716 -53.266930            ADE  0.400862        0.271629    0.327509                  287.0  249610.144002  81.761510  23.833332\\n22 -11.347487 -55.294000            ADE  0.444513        0.252200    0.303287                  363.0   14733.684766  80.306170  24.616667\\n23 -12.000169 -53.546070            ADE  0.420291        0.260200    0.319509                  277.0  214382.082661  81.749010  23.983334\\n24 -13.366731 -54.263101          other  0.355075        0.274838    0.370087                  427.0   93755.583024  83.254140  22.350000\\n25 -11.486937 -55.303039            ADE  0.458316        0.285281    0.256403                  369.0   23860.370367  80.901630  24.383333\\n26 -11.952576 -53.373121            ADE  0.393844        0.287218    0.318938                  322.0  229803.109288  82.049310  23.666668\\n27 -13.137172 -54.914124            ADE  0.392080        0.275433    0.332487                  396.0   61119.335468  83.560900  22.750000\\n28 -12.865964 -53.847143            ADE  0.390853        0.278838    0.330309                  353.0  160919.395777  83.810170  22.850000\\n29 -11.563952 -55.053949            ADE  0.432316        0.279281    0.288403                  333.0   49534.345779  82.634020  24.483334\\n30 -12.136129 -53.617721            ADE  0.399612        0.281029    0.319360                  303.0  214026.386419  82.994774  23.616667\\n31 -12.020475 -54.772030            ADE  0.411075        0.266838    0.322087                  352.0  106490.949947  86.248000  23.616667\\n32 -11.543615 -55.173412            ADE  0.424316        0.291281    0.284403                  367.0   38939.626231  82.343750  24.266666\\n33 -12.535394 -54.568450            ADE  0.365952        0.292228    0.341820                  360.0  137638.790703  85.564095  23.166666\\n34 -12.204592 -53.627457            ADE  0.410380        0.263400    0.326220                  284.0  216828.346107  82.585014  23.633333\\n35 -12.037945 -53.679387            ADE  0.396665        0.291281    0.312054                  288.0  203036.609522  82.974770  23.800001\\n36 -11.311033 -55.105122            ADE  0.420884        0.299029    0.280087                  381.0   27842.779145  80.463590  24.483334\\n37 -12.674264 -53.560577            ADE  0.366853        0.294838    0.338309                  333.0  198600.181021  83.671340  23.050000\\n38 -11.668401 -54.126084            ADE  0.399612        0.277029    0.323360                  297.0  141868.299419  82.719190  24.216667\\n39 -12.513820 -53.626751            ADE  0.371684        0.296229    0.332087                  326.0  203580.893256  83.725334  23.216667\\n40 -13.085484 -55.263517            ADE  0.418484        0.205600    0.375916                  450.0   41857.957136  83.255295  22.850000\\n41 -11.635103 -55.094878            ADE  0.422884        0.281029    0.296087                  381.0   51869.248996  83.003360  24.166666\\n42 -12.839759 -54.787935            ADE  0.356063        0.295228    0.348709                  340.0   96708.672403  84.742516  23.066668\\n43 -11.737030 -54.069596            ADE  0.400094        0.295281    0.304625                  310.0  150424.113884  82.984250  24.016666\\n44 -11.252344 -54.509158            ADE  0.425456        0.271029    0.303516                  377.0   90435.158631  80.845050  24.600000\\n45 -11.645789 -54.781348            ADE  0.424316        0.287281    0.288403                  348.0   77602.143356  84.134155  24.133333\\n46 -11.772482 -54.433773            ADE  0.391366        0.260200    0.348434                  349.0  116849.026724  83.769720  23.850000\\n47 -13.071941 -54.856360            ADE  0.374808        0.261366    0.363826                  375.0   70453.086872  84.074400  22.816666'"
      ]
     },
     "execution_count": 28,
     "metadata": {},
     "output_type": "execute_result"
    }
   ],
   "source": [
    "# file = client.files.create(\n",
    "#     file=open('data/final_datasets/final.csv', 'rb'),\n",
    "#     purpose=\"assistants\",\n",
    "# )\n",
    "df_text"
   ]
  },
  {
   "cell_type": "code",
   "execution_count": 32,
   "id": "7f330066",
   "metadata": {},
   "outputs": [
    {
     "name": "stdout",
     "output_type": "stream",
     "text": [
      "You have provided a detailed dataset with coordinates, predictive probabilities from a RandomForest model, and four crucial landscape/environmental features. To identify the **top 2 most likely new discovery locations** for Amazonian archaeological sites (ADE, Earthworks, or “other”), I’ll integrate these data-driven predictions with archaeological and historical context for the Upper Xingu and broader Amazon region.\n",
      "\n",
      "### Step 1: Data Synthesis\n",
      "\n",
      "#### A) Model-based Likelihood\n",
      "- **“prob_ADE”** and **“prob_earthwork”** indicate ML confidence scores. Points with the highest probabilities for these classes are the most interesting for new discoveries.\n",
      "- “**other**” class is interesting when probabilities for **ADE/earthwork** are still moderate, because Amazonian Dark Earths and earthworks are both strongly tied to ancient occupation.\n",
      "\n",
      "#### B) Best Candidates from the Data\n",
      "Let’s sort by combined highest predicted probabilities for **ADE** and **earthwork**. Here are some highly-ranked points:\n",
      "\n",
      "| index | latitude | longitude | prob_ADE | prob_earthwork | lidar_elevation_value | distriver1 | Notes |\n",
      "|-------|----------|-----------|----------|---------------|----------------------|------------|-------|\n",
      "| 25    | -11.4869 | -55.3030  | 0.458    | 0.285         | 369                  | 23860      | High ADE, close to river |\n",
      "| 22    | -11.3475 | -55.2940  | 0.444    | 0.252         | 363                  | 14733      | High ADE, very close to river |\n",
      "| 32    | -11.5436 | -55.1734  | 0.424    | 0.291         | 367                  | 38939      | High scores, favorable features |\n",
      "| 19    | -12.3294 | -53.2221  | 0.421    | 0.252         | 288                  | 250792     | Slightly lower earthwork prob but high ADE |\n",
      "| 29    | -11.5639 | -55.0539  | 0.432    | 0.279         | 333                  | 49534      | High ADE/earth, close to river |\n",
      "\n",
      "**Pattern:** The cluster near longitudes ~ -55, latitudes -11.3 to -11.6, just west of the Xingu basin, shows strong model likelihood **and** proximity to rivers (crucial for ancient settlement).\n",
      "\n",
      "### Step 2: Archaeological and Environmental Context\n",
      "\n",
      "#### 1. **Elevation**\n",
      "- Most ADE and earthworks sites are found on non-flooded, slightly raised terraces or bluffs above the main river floodplain, in the 250–400m elevation range. Your top scoring points all fit.\n",
      "\n",
      "#### 2. **Distance to Rivers**\n",
      "- Pre-Columbian sites overwhelmingly favor <50km from major rivers, closer for larger earthworks.\n",
      "- Points 22, 25, 32, 29 are all <50,000m (~50km), some much closer (<25km).\n",
      "\n",
      "#### 3. **Historical/Archaeological Clustering**\n",
      "- Upper Xingu villages and geoglyph complexes tend to cluster, meaning a new high-probability area near other sites increases discovery odds.\n",
      "- Little prior archaeological work exists west of the Upper Xingu but on similar geomorphology (terra firme, riverine).\n",
      "\n",
      "#### 4. **Modern Remote Sensing**\n",
      "- LIADR, satellite, and soil chemical surveys (for ADE signatures) favor areas with these same features.\n",
      "\n",
      "### Step 3: Top 2 Recommendations\n",
      "\n",
      "#### **Site 1: Near (-11.4869, -55.3030)**\n",
      "- **Description:** Excellent model scores, close to a river, mid-high elevation, falls into zone west of known Upper Xingu sites and aligns with geoglyph probability models from Acre and Rondônia.\n",
      "- **Justification:** Combination of environmental suitability, archaeological [“terra preta”] soil prediction, and historical lack of systematic survey increases discovery odds.\n",
      "\n",
      "#### **Site 2: Near (-11.3475, -55.2940)**\n",
      "- **Description:** Even higher proximity to river, high elevation, outstanding ADE probability.\n",
      "- **Justification:** Strong candidate for both ADE and possible associated earthworks due to clustering of high-probability points and environmental factors nearly identical to known discovery zones.\n",
      "\n",
      "---\n",
      "\n",
      "## Summary Table\n",
      "\n",
      "| Site | Latitude   | Longitude   | prob_ADE | prob_earthwork | Elevation (m) | Distance to River (m) | Key Reasoning                                               |\n",
      "|------|------------|-------------|----------|---------------|---------------|-----------------------|-------------------------------------------------------------|\n",
      "| 1    | -11.4869   | -55.3030    | 0.458    | 0.285         | 369           | 23,860                | High model score, river proximity, proven settlement zone   |\n",
      "| 2    | -11.3475   | -55.2940    | 0.444    | 0.252         | 363           | 14,733                | Highest river closeness; model & environmental fit          |\n",
      "\n",
      "---\n",
      "\n",
      "## Next Steps / Validation\n",
      "\n",
      "- **Ground truth** using high-resolution LIDAR, drone imagery, and targeted auger soil testing for ADE chemical signatures.\n",
      "- **Contextualize** with settlement history: Early complex societies (e.g., Upper Xingu) used precisely these locations—raised ground, **within short walking distance of rivers** for transport/canoe access but immune from floods.\n",
      "\n",
      "---\n",
      "\n",
      "### Would you like a visualization of these coordinates or further historical references/sourcing for these predictions? Let me know if you want to discuss in more detail, or need a next-action field protocol draft!\n"
     ]
    }
   ],
   "source": [
    "\n",
    "input_text = f\"\"\"\n",
    "You are a research expert on the Amazon rainforest. You are familiar with the types of artifacts present in the region (earthworks, ADE - Amazonian Dark Earths, other). \\\n",
    "I am trying to estimate the top 2 most likely locations that would uncover a site that has yet to be discovered. For context on earlier ML analysis \\\n",
    "We have performed a training and evalutaion run on Amazon Rainforest coordinate data using a RandomForest Classifier.  \n",
    "I am providing you with a pandas dataframe with coordinate data for specific points within the Amazon Rainforest near the Upper Xingu region. Including, coordinates, the top 4 \\\n",
    "most important features (these are elevation points from DEM files, distance to the closest river, temperatue annual range, and precipitation of coldest quarter),\n",
    " the predicted results from the RandomForest Classifier, and the probabilities of the potential labels from the 3 labels for each set of coordinate points. \\\n",
    "Perform a series of jobs including, cross-validation, historical research on early settlers, and other modern archaeology techniques to come to the most sound conclusion.\n",
    "\n",
    "\n",
    "\n",
    "\"\"\"\n",
    "\n",
    "# response = client.responses.create(\n",
    "#   model=\"o3\",\n",
    "#   input=input_text,\n",
    "#   tools=[\n",
    "#     {\"type\": \"web_search_preview\"},\n",
    "#   ],\n",
    "# )\n",
    "\n",
    "# print(response.output_text)\n",
    "\n",
    "\n",
    "response = client.responses.create(\n",
    "    instructions=input_text,\n",
    "    model=\"gpt-4.1-2025-04-14\",\n",
    "    tools=[{\"type\": \"web_search_preview\"}],\n",
    "    input=f\"{df_text}\"\n",
    ")\n",
    "\n",
    "print(response.output_text)\n"
   ]
  },
  {
   "cell_type": "code",
   "execution_count": null,
   "id": "e2cc449b",
   "metadata": {},
   "outputs": [],
   "source": [
    "def main():\n",
    "    response = client.responses.create(\n",
    "        model=\"o4-mini\",\n",
    "        input=[\n",
    "            {\n",
    "                \"role\": \"user\",\n",
    "                \"content\": [\n",
    "                    { \"type\": \"input_text\", \"text\": \"what is in this image?\" },\n",
    "                    {\n",
    "                        \"type\": \"input_image\",\n",
    "                        \"image_url\": \"https://ot-process3.sdsc.edu/appRasterVizService1749086280461102372284/viz.GEBCOSubIceTopo_color-relief.png\"\n",
    "                    }\n",
    "                ]\n",
    "            }\n",
    "        ]\n",
    "    )\n",
    "\n",
    "    print(response)\n",
    "    print(response.model)\n"
   ]
  }
 ],
 "metadata": {
  "kernelspec": {
   "display_name": "operation-floresta",
   "language": "python",
   "name": "python3"
  },
  "language_info": {
   "codemirror_mode": {
    "name": "ipython",
    "version": 3
   },
   "file_extension": ".py",
   "mimetype": "text/x-python",
   "name": "python",
   "nbconvert_exporter": "python",
   "pygments_lexer": "ipython3",
   "version": "3.11.5"
  }
 },
 "nbformat": 4,
 "nbformat_minor": 5
}
